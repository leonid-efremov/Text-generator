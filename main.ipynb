{
 "cells": [
  {
   "cell_type": "markdown",
   "metadata": {},
   "source": [
    "Генератор теста\n",
    "main файл:\n",
    "    - простая грамматическая модель\n",
    "    - интерфейс для вызова LSTM модели\n",
    "    - основная программа"
   ]
  },
  {
   "cell_type": "code",
   "execution_count": 1,
   "metadata": {},
   "outputs": [],
   "source": [
    "from Text_Generator import TextGenerator"
   ]
  },
  {
   "cell_type": "code",
   "execution_count": 2,
   "metadata": {},
   "outputs": [],
   "source": [
    "model = TextGenerator(model_type='LSTM')\n",
    "\n",
    "layers_sizes =  {'hidden_size': 128,     # for LSTM model\n",
    "                 'embedding_size': 128}"
   ]
  },
  {
   "cell_type": "code",
   "execution_count": 3,
   "metadata": {},
   "outputs": [],
   "source": [
    "train_texts = 'books.csv'\n",
    "\n",
    "model.prepare(file_path=train_texts, layers_sizes=layers_sizes, pretrained=True)"
   ]
  },
  {
   "cell_type": "code",
   "execution_count": 4,
   "metadata": {},
   "outputs": [],
   "source": [
    "#start_word = str(input('Enter your word:'))  # generate phrase from word\n",
    "#gen.init_word = 'утро доброе'  # start_word"
   ]
  },
  {
   "cell_type": "code",
   "execution_count": 5,
   "metadata": {},
   "outputs": [
    {
     "name": "stdout",
     "output_type": "stream",
     "text": [
      " нем не приказал как будто он понимал что его не отвечал он вот он подумал он подумал он под себе все после положение своим и слезы которые составляем все вы с ней в положение на то время в котором в котором он не знаю что он под себе стояли под обеда выражение после полковой командир с тем что он не становился он был не видел не подумал он не знал что вы все молчали и в то что он всегда сказал он видел на него не подвигались по своей стороны высокий полковой командир не было что он не из которог\n"
     ]
    }
   ],
   "source": [
    "train_parameters = {'batch_size': 64,\n",
    "                    'seq_len': 256,\n",
    "                    'n_epochs': 2500,\n",
    "                    'lr': 1e-3}\n",
    "phrase = model.generate(train_parameters=train_parameters) "
   ]
  }
 ],
 "metadata": {
  "interpreter": {
   "hash": "ad2bdc8ecc057115af97d19610ffacc2b4e99fae6737bb82f5d7fb13d2f2c186"
  },
  "kernelspec": {
   "display_name": "Python 3.8.5 ('base')",
   "language": "python",
   "name": "python3"
  },
  "language_info": {
   "codemirror_mode": {
    "name": "ipython",
    "version": 3
   },
   "file_extension": ".py",
   "mimetype": "text/x-python",
   "name": "python",
   "nbconvert_exporter": "python",
   "pygments_lexer": "ipython3",
   "version": "3.8.5"
  },
  "orig_nbformat": 4
 },
 "nbformat": 4,
 "nbformat_minor": 2
}
