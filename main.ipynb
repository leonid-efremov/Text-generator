{
 "cells": [
  {
   "cell_type": "markdown",
   "metadata": {},
   "source": [
    "Генератор теста\n",
    "main файл:\n",
    "    - простая грамматическая модель\n",
    "    - интерфейс для вызова LSTM модели\n",
    "    - основная программа"
   ]
  },
  {
   "cell_type": "code",
   "execution_count": 1,
   "metadata": {},
   "outputs": [],
   "source": [
    "from Text_Generator import TextGenerator"
   ]
  },
  {
   "cell_type": "code",
   "execution_count": 8,
   "metadata": {},
   "outputs": [],
   "source": [
    "model = TextGenerator(model_type='GPT')\n",
    "\n",
    "layers_sizes =  {'hidden_size': 128,     # for LSTM model\n",
    "                 'embedding_size': 128}"
   ]
  },
  {
   "cell_type": "code",
   "execution_count": 9,
   "metadata": {},
   "outputs": [],
   "source": [
    "train_texts = 'books.csv'\n",
    "\n",
    "model.prepare(train_texts, only_words=False, layers_sizes=layers_sizes, pretrained=True)"
   ]
  },
  {
   "cell_type": "code",
   "execution_count": 4,
   "metadata": {},
   "outputs": [],
   "source": [
    "#start_word = str(input('Enter your word:'))  # generate phrase from word\n",
    "#gen.init_word = 'утро доброе'  # start_word"
   ]
  },
  {
   "cell_type": "code",
   "execution_count": 4,
   "metadata": {},
   "outputs": [
    {
     "name": "stdout",
     "output_type": "stream",
     "text": [
      " себя старика и слышались в положение колес и все своей стороны и подумал он не понимал что он против себя и после нее с больших сторону и только прислушивался от него после положение и не знаю что дальше не заметил что он стал с гостиной и не знаю что он не подумал он не слушал князь андрей на случае с полковой командир после положение прибавил он всё было не думал он всегда с него не понимаю развернулся на котором он все принял под которым он после положение после не высокий молодом приказания \n"
     ]
    }
   ],
   "source": [
    "train_parameters = {'batch_size': 64,\n",
    "                    'seq_len': 256,\n",
    "                    'n_epochs': 2500,\n",
    "                    'lr': 1e-3}\n",
    "phrase = model.generate(train_parameters=train_parameters) "
   ]
  }
 ],
 "metadata": {
  "interpreter": {
   "hash": "ad2bdc8ecc057115af97d19610ffacc2b4e99fae6737bb82f5d7fb13d2f2c186"
  },
  "kernelspec": {
   "display_name": "Python 3.8.5 ('base')",
   "language": "python",
   "name": "python3"
  },
  "language_info": {
   "codemirror_mode": {
    "name": "ipython",
    "version": 3
   },
   "file_extension": ".py",
   "mimetype": "text/x-python",
   "name": "python",
   "nbconvert_exporter": "python",
   "pygments_lexer": "ipython3",
   "version": "3.8.5"
  },
  "orig_nbformat": 4
 },
 "nbformat": 4,
 "nbformat_minor": 2
}
